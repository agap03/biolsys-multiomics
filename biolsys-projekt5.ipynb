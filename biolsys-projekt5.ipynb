{
 "cells": [
  {
   "cell_type": "code",
   "execution_count": 27,
   "metadata": {
    "execution": {
     "iopub.execute_input": "2025-06-22T19:41:11.334627Z",
     "iopub.status.busy": "2025-06-22T19:41:11.334223Z",
     "iopub.status.idle": "2025-06-22T19:41:11.366479Z",
     "shell.execute_reply": "2025-06-22T19:41:11.365466Z",
     "shell.execute_reply.started": "2025-06-22T19:41:11.334594Z"
    },
    "trusted": true
   },
   "outputs": [
    {
     "data": {
      "text/plain": [
       "(125,)"
      ]
     },
     "execution_count": 27,
     "metadata": {},
     "output_type": "execute_result"
    }
   ],
   "source": [
    "import pandas as pd\n",
    "import re\n",
    "\n",
    "# pobranie danych z bazy OncoKB\n",
    "df_onco = pd.read_csv('/kaggle/input/oncokb/cancerGeneList.tsv', sep='\\t')\n",
    "df_onco = df_onco[df_onco['Vogelstein']=='Yes'] # filtracja po Volgnetstein\n",
    "hugos = df_onco['Hugo Symbol']\n",
    "\n",
    "hugos.shape"
   ]
  },
  {
   "cell_type": "code",
   "execution_count": 28,
   "metadata": {
    "_cell_guid": "b1076dfc-b9ad-4769-8c92-a6c4dae69d19",
    "_uuid": "8f2839f25d086af736a60e9eeb907d3b93b6e0e5",
    "execution": {
     "iopub.execute_input": "2025-06-22T19:41:12.318171Z",
     "iopub.status.busy": "2025-06-22T19:41:12.317246Z",
     "iopub.status.idle": "2025-06-22T19:41:12.323463Z",
     "shell.execute_reply": "2025-06-22T19:41:12.322382Z",
     "shell.execute_reply.started": "2025-06-22T19:41:12.318137Z"
    },
    "trusted": true
   },
   "outputs": [
    {
     "name": "stdout",
     "output_type": "stream",
     "text": [
      "Using Kaggle's public dataset BigQuery integration.\n"
     ]
    }
   ],
   "source": [
    "from google.cloud import bigquery\n",
    "client = bigquery.Client()"
   ]
  },
  {
   "cell_type": "code",
   "execution_count": 29,
   "metadata": {
    "execution": {
     "iopub.execute_input": "2025-06-22T19:41:13.242672Z",
     "iopub.status.busy": "2025-06-22T19:41:13.242345Z",
     "iopub.status.idle": "2025-06-22T19:42:43.515177Z",
     "shell.execute_reply": "2025-06-22T19:42:43.514265Z",
     "shell.execute_reply.started": "2025-06-22T19:41:13.242649Z"
    },
    "trusted": true
   },
   "outputs": [
    {
     "name": "stderr",
     "output_type": "stream",
     "text": [
      "/usr/local/lib/python3.11/dist-packages/google/cloud/bigquery/table.py:1727: UserWarning: BigQuery Storage module not found, fetch data with the REST endpoint instead.\n",
      "  warnings.warn(\n"
     ]
    },
    {
     "data": {
      "text/html": [
       "<div>\n",
       "<style scoped>\n",
       "    .dataframe tbody tr th:only-of-type {\n",
       "        vertical-align: middle;\n",
       "    }\n",
       "\n",
       "    .dataframe tbody tr th {\n",
       "        vertical-align: top;\n",
       "    }\n",
       "\n",
       "    .dataframe thead th {\n",
       "        text-align: right;\n",
       "    }\n",
       "</style>\n",
       "<table border=\"1\" class=\"dataframe\">\n",
       "  <thead>\n",
       "    <tr style=\"text-align: right;\">\n",
       "      <th></th>\n",
       "      <th>project_short_name</th>\n",
       "      <th>case_barcode</th>\n",
       "      <th>primary_site</th>\n",
       "      <th>Hugo_Symbol</th>\n",
       "      <th>Entrez_Gene_Id</th>\n",
       "      <th>Center</th>\n",
       "      <th>NCBI_Build</th>\n",
       "      <th>Chromosome</th>\n",
       "      <th>Start_Position</th>\n",
       "      <th>End_Position</th>\n",
       "      <th>...</th>\n",
       "      <th>callers</th>\n",
       "      <th>file_gdc_id</th>\n",
       "      <th>muse</th>\n",
       "      <th>mutect2</th>\n",
       "      <th>pindel</th>\n",
       "      <th>varscan2</th>\n",
       "      <th>sample_barcode_tumor</th>\n",
       "      <th>sample_barcode_normal</th>\n",
       "      <th>aliquot_barcode_tumor</th>\n",
       "      <th>aliquot_barcode_normal</th>\n",
       "    </tr>\n",
       "  </thead>\n",
       "  <tbody>\n",
       "    <tr>\n",
       "      <th>0</th>\n",
       "      <td>TCGA-COAD</td>\n",
       "      <td>TCGA-5M-AAT6</td>\n",
       "      <td>Colon</td>\n",
       "      <td>KLF4</td>\n",
       "      <td>9314</td>\n",
       "      <td>BCM</td>\n",
       "      <td>GRCh38</td>\n",
       "      <td>chr9</td>\n",
       "      <td>107488024</td>\n",
       "      <td>107488024</td>\n",
       "      <td>...</td>\n",
       "      <td>muse;mutect2;varscan2</td>\n",
       "      <td>9a373792-babb-4744-a23c-eb4ee170e6de</td>\n",
       "      <td>Yes</td>\n",
       "      <td>Yes</td>\n",
       "      <td>No</td>\n",
       "      <td>Yes</td>\n",
       "      <td>TCGA-5M-AAT6-01A</td>\n",
       "      <td>TCGA-5M-AAT6-10A</td>\n",
       "      <td>TCGA-5M-AAT6-01A-11D-A40P-10</td>\n",
       "      <td>TCGA-5M-AAT6-10A-01D-A40P-10</td>\n",
       "    </tr>\n",
       "    <tr>\n",
       "      <th>1</th>\n",
       "      <td>TCGA-UCEC</td>\n",
       "      <td>TCGA-A5-A0G2</td>\n",
       "      <td>Corpus uteri</td>\n",
       "      <td>DAXX</td>\n",
       "      <td>1616</td>\n",
       "      <td>WUGSC</td>\n",
       "      <td>GRCh38</td>\n",
       "      <td>chr6</td>\n",
       "      <td>33321883</td>\n",
       "      <td>33321883</td>\n",
       "      <td>...</td>\n",
       "      <td>muse;mutect2;varscan2</td>\n",
       "      <td>411a606d-f354-4561-b42c-eb1bc155c87d</td>\n",
       "      <td>Yes</td>\n",
       "      <td>Yes</td>\n",
       "      <td>No</td>\n",
       "      <td>Yes</td>\n",
       "      <td>TCGA-A5-A0G2-01A</td>\n",
       "      <td>TCGA-A5-A0G2-10A</td>\n",
       "      <td>TCGA-A5-A0G2-01A-11W-A062-09</td>\n",
       "      <td>TCGA-A5-A0G2-10A-01W-A062-09</td>\n",
       "    </tr>\n",
       "    <tr>\n",
       "      <th>2</th>\n",
       "      <td>TCGA-COAD</td>\n",
       "      <td>TCGA-A6-6648</td>\n",
       "      <td>Colon</td>\n",
       "      <td>PHF6</td>\n",
       "      <td>84295</td>\n",
       "      <td>BCM</td>\n",
       "      <td>GRCh38</td>\n",
       "      <td>chrX</td>\n",
       "      <td>134413609</td>\n",
       "      <td>134413609</td>\n",
       "      <td>...</td>\n",
       "      <td>muse;mutect2;varscan2</td>\n",
       "      <td>df4bd1d4-36c1-4819-8e7d-3a684cb70824</td>\n",
       "      <td>Yes</td>\n",
       "      <td>Yes</td>\n",
       "      <td>No</td>\n",
       "      <td>Yes</td>\n",
       "      <td>TCGA-A6-6648-01A</td>\n",
       "      <td>TCGA-A6-6648-10A</td>\n",
       "      <td>TCGA-A6-6648-01A-11D-1771-10</td>\n",
       "      <td>TCGA-A6-6648-10A-01D-1771-10</td>\n",
       "    </tr>\n",
       "    <tr>\n",
       "      <th>3</th>\n",
       "      <td>TCGA-UCEC</td>\n",
       "      <td>TCGA-BG-A0YU</td>\n",
       "      <td>Corpus uteri</td>\n",
       "      <td>AKT1</td>\n",
       "      <td>207</td>\n",
       "      <td>WUGSC</td>\n",
       "      <td>GRCh38</td>\n",
       "      <td>chr14</td>\n",
       "      <td>104780214</td>\n",
       "      <td>104780214</td>\n",
       "      <td>...</td>\n",
       "      <td>muse;mutect2;varscan2</td>\n",
       "      <td>efce7c74-4ceb-409c-9a43-4b8490695651</td>\n",
       "      <td>Yes</td>\n",
       "      <td>Yes</td>\n",
       "      <td>No</td>\n",
       "      <td>Yes</td>\n",
       "      <td>TCGA-BG-A0YU-01A</td>\n",
       "      <td>TCGA-BG-A0YU-10A</td>\n",
       "      <td>TCGA-BG-A0YU-01A-21D-A10M-09</td>\n",
       "      <td>TCGA-BG-A0YU-10A-01D-A10M-09</td>\n",
       "    </tr>\n",
       "    <tr>\n",
       "      <th>4</th>\n",
       "      <td>TCGA-UCEC</td>\n",
       "      <td>TCGA-E6-A1M0</td>\n",
       "      <td>Corpus uteri</td>\n",
       "      <td>TNFAIP3</td>\n",
       "      <td>7128</td>\n",
       "      <td>WUGSC</td>\n",
       "      <td>GRCh38</td>\n",
       "      <td>chr6</td>\n",
       "      <td>137874936</td>\n",
       "      <td>137874936</td>\n",
       "      <td>...</td>\n",
       "      <td>muse;mutect2;varscan2</td>\n",
       "      <td>8a0ff8a3-c55d-48f1-b06f-ae044a5036d4</td>\n",
       "      <td>Yes</td>\n",
       "      <td>Yes</td>\n",
       "      <td>No</td>\n",
       "      <td>Yes</td>\n",
       "      <td>TCGA-E6-A1M0-01A</td>\n",
       "      <td>TCGA-E6-A1M0-10A</td>\n",
       "      <td>TCGA-E6-A1M0-01A-11D-A142-09</td>\n",
       "      <td>TCGA-E6-A1M0-10A-01D-A142-09</td>\n",
       "    </tr>\n",
       "  </tbody>\n",
       "</table>\n",
       "<p>5 rows × 152 columns</p>\n",
       "</div>"
      ],
      "text/plain": [
       "  project_short_name  case_barcode  primary_site Hugo_Symbol  Entrez_Gene_Id  \\\n",
       "0          TCGA-COAD  TCGA-5M-AAT6         Colon        KLF4            9314   \n",
       "1          TCGA-UCEC  TCGA-A5-A0G2  Corpus uteri        DAXX            1616   \n",
       "2          TCGA-COAD  TCGA-A6-6648         Colon        PHF6           84295   \n",
       "3          TCGA-UCEC  TCGA-BG-A0YU  Corpus uteri        AKT1             207   \n",
       "4          TCGA-UCEC  TCGA-E6-A1M0  Corpus uteri     TNFAIP3            7128   \n",
       "\n",
       "  Center NCBI_Build Chromosome  Start_Position  End_Position  ...  \\\n",
       "0    BCM     GRCh38       chr9       107488024     107488024  ...   \n",
       "1  WUGSC     GRCh38       chr6        33321883      33321883  ...   \n",
       "2    BCM     GRCh38       chrX       134413609     134413609  ...   \n",
       "3  WUGSC     GRCh38      chr14       104780214     104780214  ...   \n",
       "4  WUGSC     GRCh38       chr6       137874936     137874936  ...   \n",
       "\n",
       "                 callers                           file_gdc_id muse mutect2  \\\n",
       "0  muse;mutect2;varscan2  9a373792-babb-4744-a23c-eb4ee170e6de  Yes     Yes   \n",
       "1  muse;mutect2;varscan2  411a606d-f354-4561-b42c-eb1bc155c87d  Yes     Yes   \n",
       "2  muse;mutect2;varscan2  df4bd1d4-36c1-4819-8e7d-3a684cb70824  Yes     Yes   \n",
       "3  muse;mutect2;varscan2  efce7c74-4ceb-409c-9a43-4b8490695651  Yes     Yes   \n",
       "4  muse;mutect2;varscan2  8a0ff8a3-c55d-48f1-b06f-ae044a5036d4  Yes     Yes   \n",
       "\n",
       "  pindel varscan2 sample_barcode_tumor sample_barcode_normal  \\\n",
       "0     No      Yes     TCGA-5M-AAT6-01A      TCGA-5M-AAT6-10A   \n",
       "1     No      Yes     TCGA-A5-A0G2-01A      TCGA-A5-A0G2-10A   \n",
       "2     No      Yes     TCGA-A6-6648-01A      TCGA-A6-6648-10A   \n",
       "3     No      Yes     TCGA-BG-A0YU-01A      TCGA-BG-A0YU-10A   \n",
       "4     No      Yes     TCGA-E6-A1M0-01A      TCGA-E6-A1M0-10A   \n",
       "\n",
       "          aliquot_barcode_tumor        aliquot_barcode_normal  \n",
       "0  TCGA-5M-AAT6-01A-11D-A40P-10  TCGA-5M-AAT6-10A-01D-A40P-10  \n",
       "1  TCGA-A5-A0G2-01A-11W-A062-09  TCGA-A5-A0G2-10A-01W-A062-09  \n",
       "2  TCGA-A6-6648-01A-11D-1771-10  TCGA-A6-6648-10A-01D-1771-10  \n",
       "3  TCGA-BG-A0YU-01A-21D-A10M-09  TCGA-BG-A0YU-10A-01D-A10M-09  \n",
       "4  TCGA-E6-A1M0-01A-11D-A142-09  TCGA-E6-A1M0-10A-01D-A142-09  \n",
       "\n",
       "[5 rows x 152 columns]"
      ]
     },
     "execution_count": 29,
     "metadata": {},
     "output_type": "execute_result"
    }
   ],
   "source": [
    "# Rekordy somatycznych mutacji dla genów z OncoKB\n",
    "\n",
    "hugo_list=hugos.to_list()\n",
    "\n",
    "query = \"\"\"SELECT *\n",
    "FROM `isb-cgc-bq.TCGA.masked_somatic_mutation_hg38_gdc_current`\n",
    "WHERE Variant_Type IN (\"SNP\", \"DEL\", \"INS\") \n",
    "AND Hugo_Symbol IN UNNEST(%s);\n",
    "\"\"\"% hugo_list\n",
    "\n",
    "query_job = client.query(query)\n",
    "df = query_job.to_dataframe()\n",
    "\n",
    "# format Parquet\n",
    "df.to_parquet('/kaggle/working/mutations.parquet')\n",
    "df_parquet = pd.read_parquet('mutations.parquet')\n",
    "\n",
    "df_parquet.head()"
   ]
  },
  {
   "cell_type": "code",
   "execution_count": 31,
   "metadata": {
    "execution": {
     "iopub.execute_input": "2025-06-22T19:42:43.524098Z",
     "iopub.status.busy": "2025-06-22T19:42:43.523222Z",
     "iopub.status.idle": "2025-06-22T19:42:43.672210Z",
     "shell.execute_reply": "2025-06-22T19:42:43.671321Z",
     "shell.execute_reply.started": "2025-06-22T19:42:43.524067Z"
    },
    "trusted": true
   },
   "outputs": [],
   "source": [
    "import re\n",
    "\n",
    "df_parquet = df_parquet.rename(columns={'Start_Position': 'Start'})\n",
    "df_parquet = df_parquet.rename(columns={'End_Position': 'End'})"
   ]
  },
  {
   "cell_type": "code",
   "execution_count": 32,
   "metadata": {
    "execution": {
     "iopub.execute_input": "2025-06-22T19:42:43.674350Z",
     "iopub.status.busy": "2025-06-22T19:42:43.674088Z",
     "iopub.status.idle": "2025-06-22T19:48:14.462925Z",
     "shell.execute_reply": "2025-06-22T19:48:14.461858Z",
     "shell.execute_reply.started": "2025-06-22T19:42:43.674330Z"
    },
    "trusted": true
   },
   "outputs": [
    {
     "name": "stderr",
     "output_type": "stream",
     "text": [
      "/usr/local/lib/python3.11/dist-packages/google/cloud/bigquery/table.py:1727: UserWarning: BigQuery Storage module not found, fetch data with the REST endpoint instead.\n",
      "  warnings.warn(\n"
     ]
    },
    {
     "data": {
      "text/html": [
       "<div>\n",
       "<style scoped>\n",
       "    .dataframe tbody tr th:only-of-type {\n",
       "        vertical-align: middle;\n",
       "    }\n",
       "\n",
       "    .dataframe tbody tr th {\n",
       "        vertical-align: top;\n",
       "    }\n",
       "\n",
       "    .dataframe thead th {\n",
       "        text-align: right;\n",
       "    }\n",
       "</style>\n",
       "<table border=\"1\" class=\"dataframe\">\n",
       "  <thead>\n",
       "    <tr style=\"text-align: right;\">\n",
       "      <th></th>\n",
       "      <th>project_short_name</th>\n",
       "      <th>primary_site</th>\n",
       "      <th>case_barcode</th>\n",
       "      <th>sample_barcode</th>\n",
       "      <th>aliquot_barcode</th>\n",
       "      <th>gene_name</th>\n",
       "      <th>gene_type</th>\n",
       "      <th>Ensembl_gene_id</th>\n",
       "      <th>Ensembl_gene_id_v</th>\n",
       "      <th>unstranded</th>\n",
       "      <th>...</th>\n",
       "      <th>stranded_second</th>\n",
       "      <th>tpm_unstranded</th>\n",
       "      <th>fpkm_unstranded</th>\n",
       "      <th>fpkm_uq_unstranded</th>\n",
       "      <th>sample_type_name</th>\n",
       "      <th>case_gdc_id</th>\n",
       "      <th>sample_gdc_id</th>\n",
       "      <th>aliquot_gdc_id</th>\n",
       "      <th>file_gdc_id</th>\n",
       "      <th>platform</th>\n",
       "    </tr>\n",
       "  </thead>\n",
       "  <tbody>\n",
       "    <tr>\n",
       "      <th>0</th>\n",
       "      <td>TCGA-ACC</td>\n",
       "      <td>Adrenal gland</td>\n",
       "      <td>TCGA-OR-A5JB</td>\n",
       "      <td>TCGA-OR-A5JB-01A</td>\n",
       "      <td>TCGA-OR-A5JB-01A-11R-A29S-07</td>\n",
       "      <td>NRAS</td>\n",
       "      <td>protein_coding</td>\n",
       "      <td>ENSG00000213281</td>\n",
       "      <td>ENSG00000213281.5</td>\n",
       "      <td>1901</td>\n",
       "      <td>...</td>\n",
       "      <td>967</td>\n",
       "      <td>27.8642</td>\n",
       "      <td>9.5155</td>\n",
       "      <td>10.0667</td>\n",
       "      <td>Primary Tumor</td>\n",
       "      <td>d63f2f1e-1970-445f-907b-23cf4d9efd83</td>\n",
       "      <td>0c98b45d-09a6-48a6-89ba-48ba7a2142d5</td>\n",
       "      <td>26861b93-29de-42df-80d6-23260d450391</td>\n",
       "      <td>5caed5c6-43ad-4d9b-b29b-398ade676797</td>\n",
       "      <td>Illumina</td>\n",
       "    </tr>\n",
       "    <tr>\n",
       "      <th>1</th>\n",
       "      <td>TCGA-ACC</td>\n",
       "      <td>Adrenal gland</td>\n",
       "      <td>TCGA-OR-A5JB</td>\n",
       "      <td>TCGA-OR-A5JB-01A</td>\n",
       "      <td>TCGA-OR-A5JB-01A-11R-A29S-07</td>\n",
       "      <td>CARD11</td>\n",
       "      <td>protein_coding</td>\n",
       "      <td>ENSG00000198286</td>\n",
       "      <td>ENSG00000198286.10</td>\n",
       "      <td>387</td>\n",
       "      <td>...</td>\n",
       "      <td>198</td>\n",
       "      <td>5.3024</td>\n",
       "      <td>1.8107</td>\n",
       "      <td>1.9156</td>\n",
       "      <td>Primary Tumor</td>\n",
       "      <td>d63f2f1e-1970-445f-907b-23cf4d9efd83</td>\n",
       "      <td>0c98b45d-09a6-48a6-89ba-48ba7a2142d5</td>\n",
       "      <td>26861b93-29de-42df-80d6-23260d450391</td>\n",
       "      <td>5caed5c6-43ad-4d9b-b29b-398ade676797</td>\n",
       "      <td>Illumina</td>\n",
       "    </tr>\n",
       "    <tr>\n",
       "      <th>2</th>\n",
       "      <td>TCGA-ACC</td>\n",
       "      <td>Adrenal gland</td>\n",
       "      <td>TCGA-OR-A5JB</td>\n",
       "      <td>TCGA-OR-A5JB-01A</td>\n",
       "      <td>TCGA-OR-A5JB-01A-11R-A29S-07</td>\n",
       "      <td>TRAF7</td>\n",
       "      <td>protein_coding</td>\n",
       "      <td>ENSG00000131653</td>\n",
       "      <td>ENSG00000131653.13</td>\n",
       "      <td>2323</td>\n",
       "      <td>...</td>\n",
       "      <td>2051</td>\n",
       "      <td>32.8133</td>\n",
       "      <td>11.2057</td>\n",
       "      <td>11.8547</td>\n",
       "      <td>Primary Tumor</td>\n",
       "      <td>d63f2f1e-1970-445f-907b-23cf4d9efd83</td>\n",
       "      <td>0c98b45d-09a6-48a6-89ba-48ba7a2142d5</td>\n",
       "      <td>26861b93-29de-42df-80d6-23260d450391</td>\n",
       "      <td>5caed5c6-43ad-4d9b-b29b-398ade676797</td>\n",
       "      <td>Illumina</td>\n",
       "    </tr>\n",
       "    <tr>\n",
       "      <th>3</th>\n",
       "      <td>TCGA-ACC</td>\n",
       "      <td>Adrenal gland</td>\n",
       "      <td>TCGA-OR-A5JB</td>\n",
       "      <td>TCGA-OR-A5JB-01A</td>\n",
       "      <td>TCGA-OR-A5JB-01A-11R-A29S-07</td>\n",
       "      <td>SOX9</td>\n",
       "      <td>protein_coding</td>\n",
       "      <td>ENSG00000125398</td>\n",
       "      <td>ENSG00000125398.8</td>\n",
       "      <td>276</td>\n",
       "      <td>...</td>\n",
       "      <td>142</td>\n",
       "      <td>4.4520</td>\n",
       "      <td>1.5204</td>\n",
       "      <td>1.6084</td>\n",
       "      <td>Primary Tumor</td>\n",
       "      <td>d63f2f1e-1970-445f-907b-23cf4d9efd83</td>\n",
       "      <td>0c98b45d-09a6-48a6-89ba-48ba7a2142d5</td>\n",
       "      <td>26861b93-29de-42df-80d6-23260d450391</td>\n",
       "      <td>5caed5c6-43ad-4d9b-b29b-398ade676797</td>\n",
       "      <td>Illumina</td>\n",
       "    </tr>\n",
       "    <tr>\n",
       "      <th>4</th>\n",
       "      <td>TCGA-ACC</td>\n",
       "      <td>Adrenal gland</td>\n",
       "      <td>TCGA-OR-A5JB</td>\n",
       "      <td>TCGA-OR-A5JB-01A</td>\n",
       "      <td>TCGA-OR-A5JB-01A-11R-A29S-07</td>\n",
       "      <td>ARID1A</td>\n",
       "      <td>protein_coding</td>\n",
       "      <td>ENSG00000117713</td>\n",
       "      <td>ENSG00000117713.20</td>\n",
       "      <td>2586</td>\n",
       "      <td>...</td>\n",
       "      <td>1297</td>\n",
       "      <td>10.2877</td>\n",
       "      <td>3.5132</td>\n",
       "      <td>3.7167</td>\n",
       "      <td>Primary Tumor</td>\n",
       "      <td>d63f2f1e-1970-445f-907b-23cf4d9efd83</td>\n",
       "      <td>0c98b45d-09a6-48a6-89ba-48ba7a2142d5</td>\n",
       "      <td>26861b93-29de-42df-80d6-23260d450391</td>\n",
       "      <td>5caed5c6-43ad-4d9b-b29b-398ade676797</td>\n",
       "      <td>Illumina</td>\n",
       "    </tr>\n",
       "  </tbody>\n",
       "</table>\n",
       "<p>5 rows × 21 columns</p>\n",
       "</div>"
      ],
      "text/plain": [
       "  project_short_name   primary_site  case_barcode    sample_barcode  \\\n",
       "0           TCGA-ACC  Adrenal gland  TCGA-OR-A5JB  TCGA-OR-A5JB-01A   \n",
       "1           TCGA-ACC  Adrenal gland  TCGA-OR-A5JB  TCGA-OR-A5JB-01A   \n",
       "2           TCGA-ACC  Adrenal gland  TCGA-OR-A5JB  TCGA-OR-A5JB-01A   \n",
       "3           TCGA-ACC  Adrenal gland  TCGA-OR-A5JB  TCGA-OR-A5JB-01A   \n",
       "4           TCGA-ACC  Adrenal gland  TCGA-OR-A5JB  TCGA-OR-A5JB-01A   \n",
       "\n",
       "                aliquot_barcode gene_name       gene_type  Ensembl_gene_id  \\\n",
       "0  TCGA-OR-A5JB-01A-11R-A29S-07      NRAS  protein_coding  ENSG00000213281   \n",
       "1  TCGA-OR-A5JB-01A-11R-A29S-07    CARD11  protein_coding  ENSG00000198286   \n",
       "2  TCGA-OR-A5JB-01A-11R-A29S-07     TRAF7  protein_coding  ENSG00000131653   \n",
       "3  TCGA-OR-A5JB-01A-11R-A29S-07      SOX9  protein_coding  ENSG00000125398   \n",
       "4  TCGA-OR-A5JB-01A-11R-A29S-07    ARID1A  protein_coding  ENSG00000117713   \n",
       "\n",
       "    Ensembl_gene_id_v  unstranded  ...  stranded_second  tpm_unstranded  \\\n",
       "0   ENSG00000213281.5        1901  ...              967         27.8642   \n",
       "1  ENSG00000198286.10         387  ...              198          5.3024   \n",
       "2  ENSG00000131653.13        2323  ...             2051         32.8133   \n",
       "3   ENSG00000125398.8         276  ...              142          4.4520   \n",
       "4  ENSG00000117713.20        2586  ...             1297         10.2877   \n",
       "\n",
       "   fpkm_unstranded  fpkm_uq_unstranded  sample_type_name  \\\n",
       "0           9.5155             10.0667     Primary Tumor   \n",
       "1           1.8107              1.9156     Primary Tumor   \n",
       "2          11.2057             11.8547     Primary Tumor   \n",
       "3           1.5204              1.6084     Primary Tumor   \n",
       "4           3.5132              3.7167     Primary Tumor   \n",
       "\n",
       "                            case_gdc_id                         sample_gdc_id  \\\n",
       "0  d63f2f1e-1970-445f-907b-23cf4d9efd83  0c98b45d-09a6-48a6-89ba-48ba7a2142d5   \n",
       "1  d63f2f1e-1970-445f-907b-23cf4d9efd83  0c98b45d-09a6-48a6-89ba-48ba7a2142d5   \n",
       "2  d63f2f1e-1970-445f-907b-23cf4d9efd83  0c98b45d-09a6-48a6-89ba-48ba7a2142d5   \n",
       "3  d63f2f1e-1970-445f-907b-23cf4d9efd83  0c98b45d-09a6-48a6-89ba-48ba7a2142d5   \n",
       "4  d63f2f1e-1970-445f-907b-23cf4d9efd83  0c98b45d-09a6-48a6-89ba-48ba7a2142d5   \n",
       "\n",
       "                         aliquot_gdc_id                           file_gdc_id  \\\n",
       "0  26861b93-29de-42df-80d6-23260d450391  5caed5c6-43ad-4d9b-b29b-398ade676797   \n",
       "1  26861b93-29de-42df-80d6-23260d450391  5caed5c6-43ad-4d9b-b29b-398ade676797   \n",
       "2  26861b93-29de-42df-80d6-23260d450391  5caed5c6-43ad-4d9b-b29b-398ade676797   \n",
       "3  26861b93-29de-42df-80d6-23260d450391  5caed5c6-43ad-4d9b-b29b-398ade676797   \n",
       "4  26861b93-29de-42df-80d6-23260d450391  5caed5c6-43ad-4d9b-b29b-398ade676797   \n",
       "\n",
       "   platform  \n",
       "0  Illumina  \n",
       "1  Illumina  \n",
       "2  Illumina  \n",
       "3  Illumina  \n",
       "4  Illumina  \n",
       "\n",
       "[5 rows x 21 columns]"
      ]
     },
     "execution_count": 32,
     "metadata": {},
     "output_type": "execute_result"
    }
   ],
   "source": [
    "# Profil ekspresji RNA, usunięcie duplikatów i zapis w Parquet\n",
    "\n",
    "query = \"\"\"SELECT *\n",
    "FROM `isb-cgc-bq.TCGA.RNAseq_hg38_gdc_current` \n",
    "WHERE gene_name IN UNNEST(%s);\n",
    "\"\"\"% hugo_list\n",
    "\n",
    "query_job = client.query(query)\n",
    "df = query_job.to_dataframe()\n",
    "\n",
    "# format Parquet\n",
    "df.to_parquet('/kaggle/working/expressions.parquet')\n",
    "df_expressions = pd.read_parquet('expressions.parquet')\n",
    "df_expressions = df_expressions.drop_duplicates(subset=['gene_name', 'case_barcode'])\n",
    "df_expressions.head()"
   ]
  },
  {
   "cell_type": "code",
   "execution_count": 34,
   "metadata": {
    "execution": {
     "iopub.execute_input": "2025-06-22T19:48:14.471741Z",
     "iopub.status.busy": "2025-06-22T19:48:14.471413Z",
     "iopub.status.idle": "2025-06-22T19:48:14.495549Z",
     "shell.execute_reply": "2025-06-22T19:48:14.494556Z",
     "shell.execute_reply.started": "2025-06-22T19:48:14.471713Z"
    },
    "trusted": true
   },
   "outputs": [
    {
     "data": {
      "text/plain": [
       "primary_site\n",
       "Corpus uteri                                                              10424\n",
       "Bronchus and lung                                                          5875\n",
       "Colon                                                                      4881\n",
       "Skin                                                                       3755\n",
       "Brain                                                                      3314\n",
       "Stomach                                                                    3178\n",
       "Bladder                                                                    2778\n",
       "Breast                                                                     2737\n",
       "Kidney                                                                     1373\n",
       "Cervix uteri                                                               1361\n",
       "Liver and intrahepatic bile ducts                                          1045\n",
       "Ovary                                                                       993\n",
       "Rectum                                                                      922\n",
       "Esophagus                                                                   686\n",
       "Pancreas                                                                    632\n",
       "Prostate gland                                                              550\n",
       "Larynx                                                                      517\n",
       "Thyroid gland                                                               477\n",
       "Other and unspecified parts of tongue                                       416\n",
       "Uterus, NOS                                                                 341\n",
       "Other and ill-defined sites in lip, oral cavity and pharynx                 312\n",
       "Rectosigmoid junction                                                       285\n",
       "Other and unspecified parts of mouth                                        235\n",
       "Connective, subcutaneous and other soft tissues                             230\n",
       "Adrenal gland                                                               222\n",
       "Floor of mouth                                                              219\n",
       "Hematopoietic and reticuloendothelial systems                               145\n",
       "Eye and adnexa                                                              139\n",
       "Heart, mediastinum, and pleura                                              134\n",
       "Tonsil                                                                      113\n",
       "Retroperitoneum and peritoneum                                              105\n",
       "Lymph nodes                                                                 102\n",
       "Testis                                                                       89\n",
       "Thymus                                                                       58\n",
       "Base of tongue                                                               56\n",
       "Gum                                                                          46\n",
       "Hypopharynx                                                                  38\n",
       "Oropharynx                                                                   30\n",
       "Lip                                                                          29\n",
       "Palate                                                                       21\n",
       "Other and unspecified parts of biliary tract                                 11\n",
       "Bones, joints and articular cartilage of other and unspecified sites          8\n",
       "Small intestine                                                               8\n",
       "Colorectal                                                                    8\n",
       "Spinal cord, cranial nerves, and other parts of central nervous system        6\n",
       "Bones, joints and articular cartilage of limbs                                3\n",
       "Gallbladder                                                                   2\n",
       "Peripheral nerves and autonomic nervous system                                2\n",
       "Other endocrine glands and related structures                                 1\n",
       "Name: count, dtype: int64"
      ]
     },
     "execution_count": 34,
     "metadata": {},
     "output_type": "execute_result"
    }
   ],
   "source": [
    "# Zbiór etykiet primary site jest niezbalansowany\n",
    "\n",
    "df_parquet['primary_site'].value_counts()"
   ]
  },
  {
   "cell_type": "code",
   "execution_count": 35,
   "metadata": {
    "execution": {
     "iopub.execute_input": "2025-06-22T19:48:14.496478Z",
     "iopub.status.busy": "2025-06-22T19:48:14.496242Z",
     "iopub.status.idle": "2025-06-22T19:51:16.637007Z",
     "shell.execute_reply": "2025-06-22T19:51:16.635902Z",
     "shell.execute_reply.started": "2025-06-22T19:48:14.496458Z"
    },
    "trusted": true
   },
   "outputs": [
    {
     "name": "stdout",
     "output_type": "stream",
     "text": [
      "Requirement already satisfied: biopython in /usr/local/lib/python3.11/dist-packages (1.85)\n",
      "Requirement already satisfied: pyranges in /usr/local/lib/python3.11/dist-packages (0.1.4)\n",
      "Requirement already satisfied: numpy in /usr/local/lib/python3.11/dist-packages (from biopython) (1.26.4)\n",
      "Requirement already satisfied: pandas in /usr/local/lib/python3.11/dist-packages (from pyranges) (2.2.3)\n",
      "Requirement already satisfied: ncls>=0.0.63 in /usr/local/lib/python3.11/dist-packages (from pyranges) (0.0.68)\n",
      "Requirement already satisfied: tabulate in /usr/local/lib/python3.11/dist-packages (from pyranges) (0.9.0)\n",
      "Requirement already satisfied: sorted_nearest>=0.0.33 in /usr/local/lib/python3.11/dist-packages (from pyranges) (0.0.39)\n",
      "Requirement already satisfied: natsort in /usr/local/lib/python3.11/dist-packages (from pyranges) (8.4.0)\n",
      "Requirement already satisfied: mkl_fft in /usr/local/lib/python3.11/dist-packages (from numpy->biopython) (1.3.8)\n",
      "Requirement already satisfied: mkl_random in /usr/local/lib/python3.11/dist-packages (from numpy->biopython) (1.2.4)\n",
      "Requirement already satisfied: mkl_umath in /usr/local/lib/python3.11/dist-packages (from numpy->biopython) (0.1.1)\n",
      "Requirement already satisfied: mkl in /usr/local/lib/python3.11/dist-packages (from numpy->biopython) (2025.1.0)\n",
      "Requirement already satisfied: tbb4py in /usr/local/lib/python3.11/dist-packages (from numpy->biopython) (2022.1.0)\n",
      "Requirement already satisfied: mkl-service in /usr/local/lib/python3.11/dist-packages (from numpy->biopython) (2.4.1)\n",
      "Requirement already satisfied: python-dateutil>=2.8.2 in /usr/local/lib/python3.11/dist-packages (from pandas->pyranges) (2.9.0.post0)\n",
      "Requirement already satisfied: pytz>=2020.1 in /usr/local/lib/python3.11/dist-packages (from pandas->pyranges) (2025.2)\n",
      "Requirement already satisfied: tzdata>=2022.7 in /usr/local/lib/python3.11/dist-packages (from pandas->pyranges) (2025.2)\n",
      "Requirement already satisfied: six>=1.5 in /usr/local/lib/python3.11/dist-packages (from python-dateutil>=2.8.2->pandas->pyranges) (1.17.0)\n",
      "Requirement already satisfied: intel-openmp<2026,>=2024 in /usr/local/lib/python3.11/dist-packages (from mkl->numpy->biopython) (2024.2.0)\n",
      "Requirement already satisfied: tbb==2022.* in /usr/local/lib/python3.11/dist-packages (from mkl->numpy->biopython) (2022.1.0)\n",
      "Requirement already satisfied: tcmlib==1.* in /usr/local/lib/python3.11/dist-packages (from tbb==2022.*->mkl->numpy->biopython) (1.3.0)\n",
      "Requirement already satisfied: intel-cmplr-lib-rt in /usr/local/lib/python3.11/dist-packages (from mkl_umath->numpy->biopython) (2024.2.0)\n",
      "Requirement already satisfied: intel-cmplr-lib-ur==2024.2.0 in /usr/local/lib/python3.11/dist-packages (from intel-openmp<2026,>=2024->mkl->numpy->biopython) (2024.2.0)\n",
      "--2025-06-22 19:48:18--  http://hgdownload.soe.ucsc.edu/goldenPath/hg38/bigZips/hg38.fa.gz\n",
      "Resolving hgdownload.soe.ucsc.edu (hgdownload.soe.ucsc.edu)... 128.114.119.163\n",
      "Connecting to hgdownload.soe.ucsc.edu (hgdownload.soe.ucsc.edu)|128.114.119.163|:80... connected.\n",
      "HTTP request sent, awaiting response... 200 OK\n",
      "Length: 983659424 (938M) [application/x-gzip]\n",
      "Saving to: ‘hg38.fa.gz’\n",
      "\n",
      "hg38.fa.gz          100%[===================>] 938.09M  25.6MB/s    in 28s     \n",
      "\n",
      "2025-06-22 19:48:46 (33.6 MB/s) - ‘hg38.fa.gz’ saved [983659424/983659424]\n",
      "\n",
      "gzip: hg38.fa already exists; do you wish to overwrite (y or n)? ^C\n"
     ]
    }
   ],
   "source": [
    "!pip install biopython pyranges\n",
    "\n",
    "!wget http://hgdownload.soe.ucsc.edu/goldenPath/hg38/bigZips/hg38.fa.gz\n",
    "!gunzip hg38.fa.gz"
   ]
  },
  {
   "cell_type": "code",
   "execution_count": 36,
   "metadata": {
    "execution": {
     "iopub.execute_input": "2025-06-22T19:51:16.639567Z",
     "iopub.status.busy": "2025-06-22T19:51:16.638499Z",
     "iopub.status.idle": "2025-06-22T19:52:10.682319Z",
     "shell.execute_reply": "2025-06-22T19:52:10.681428Z",
     "shell.execute_reply.started": "2025-06-22T19:51:16.639520Z"
    },
    "trusted": true
   },
   "outputs": [],
   "source": [
    "# ekstrakcja trójnukleotydowego kontekstu\n",
    "\n",
    "import pyranges as pr\n",
    "import pandas as pd\n",
    "from Bio import SeqIO\n",
    "\n",
    "gr = pr.PyRanges(df_parquet)\n",
    "fasta_sequences = SeqIO.to_dict(SeqIO.parse(\"/kaggle/working/hg38.fa\", \"fasta\"))"
   ]
  },
  {
   "cell_type": "code",
   "execution_count": 37,
   "metadata": {
    "execution": {
     "iopub.execute_input": "2025-06-22T19:52:10.683779Z",
     "iopub.status.busy": "2025-06-22T19:52:10.683480Z",
     "iopub.status.idle": "2025-06-22T19:52:10.692157Z",
     "shell.execute_reply": "2025-06-22T19:52:10.691280Z",
     "shell.execute_reply.started": "2025-06-22T19:52:10.683754Z"
    },
    "trusted": true
   },
   "outputs": [],
   "source": [
    "def get_cosmic_notation(row, fasta_dict):\n",
    "    chrom = row.Chromosome  # upewniamy się, że chromosom nie ma prefiksu \"chr\"\n",
    "    start = int(row.Start)\n",
    "    end = int(row.End)\n",
    "    alt = str(row.Tumor_Seq_Allele2) if pd.notnull(row.Tumor_Seq_Allele2) else None\n",
    "    variant_type = row.Variant_Type\n",
    "    cosmic_notation = None\n",
    "\n",
    "    try:\n",
    "        seq = fasta_dict[chrom].seq\n",
    "        context_seq = seq[start-2:end+1].upper()  # np. G[C>T]A -> 1 baza przed i po\n",
    "        ref_base = seq[start-1:end].upper()  \n",
    "\n",
    "        # COSMIC-style notacja\n",
    "        if variant_type == 'SNP':\n",
    "            # np. G[C>T]A\n",
    "            cosmic_notation = f\"{context_seq[0]}[{ref_base}>{alt}]{context_seq[-1]}\"\n",
    "\n",
    "        elif variant_type == 'DEL':\n",
    "            if end > start:\n",
    "                deleted_seq = seq[start-1:end].upper()\n",
    "            else:\n",
    "                deleted_seq = ref_base\n",
    "            cosmic_notation = f\"{context_seq[0]}[del{len(deleted_seq)}]{context_seq[-1]}\"\n",
    "\n",
    "        elif variant_type == 'INS':\n",
    "            inserted_seq = alt\n",
    "            cosmic_notation = f\"{context_seq[0]}[ins{len(inserted_seq)}]{context_seq[-1]}\"\n",
    "\n",
    "        else:\n",
    "            cosmic_notation = f\"UnknownVariantType:{variant_type}\"\n",
    "\n",
    "    except Exception as e:\n",
    "        cosmic_notation = f\"ERROR: {e}\"\n",
    "\n",
    "    return cosmic_notation\n"
   ]
  },
  {
   "cell_type": "code",
   "execution_count": 38,
   "metadata": {
    "execution": {
     "iopub.execute_input": "2025-06-22T19:52:10.695841Z",
     "iopub.status.busy": "2025-06-22T19:52:10.695324Z",
     "iopub.status.idle": "2025-06-22T19:52:12.822083Z",
     "shell.execute_reply": "2025-06-22T19:52:12.821242Z",
     "shell.execute_reply.started": "2025-06-22T19:52:10.695818Z"
    },
    "trusted": true
   },
   "outputs": [],
   "source": [
    "df_parquet['Mutational_Motif'] = df_parquet.apply(lambda row: get_cosmic_notation(row, fasta_sequences), axis=1)"
   ]
  },
  {
   "cell_type": "code",
   "execution_count": 39,
   "metadata": {
    "execution": {
     "iopub.execute_input": "2025-06-22T19:52:12.823368Z",
     "iopub.status.busy": "2025-06-22T19:52:12.823040Z",
     "iopub.status.idle": "2025-06-22T19:52:12.892264Z",
     "shell.execute_reply": "2025-06-22T19:52:12.891416Z",
     "shell.execute_reply.started": "2025-06-22T19:52:12.823338Z"
    },
    "trusted": true
   },
   "outputs": [],
   "source": [
    "# normalizacja do pirymidyn, komplementacja\n",
    "\n",
    "complement = {'A': 'T', 'T': 'A', 'C': 'G', 'G': 'C'}\n",
    "\n",
    "def normalize_mutation(mutation):\n",
    "    match = re.match(r\"([ATGC])\\[([ATGC]>[ATGC])\\]([ATGC])\", mutation)\n",
    "    if match:\n",
    "        ref, change, alt = match.groups()\n",
    "        ref_from, ref_to = change.split('>')\n",
    "\n",
    "        if ref_from not in ['C', 'T']:\n",
    "            ref_from = complement[ref_from]\n",
    "            ref_to = complement[ref_to]\n",
    "            ref = complement[alt]\n",
    "            alt = complement[ref]\n",
    "\n",
    "        return f\"{ref}[{ref_from}>{ref_to}]{alt}\"\n",
    "\n",
    "    return mutation\n",
    "\n",
    "\n",
    "df_parquet['MutationType'] = df_parquet['Mutational_Motif'].apply(normalize_mutation)"
   ]
  },
  {
   "cell_type": "code",
   "execution_count": 40,
   "metadata": {
    "execution": {
     "iopub.execute_input": "2025-06-22T19:52:12.893542Z",
     "iopub.status.busy": "2025-06-22T19:52:12.893212Z",
     "iopub.status.idle": "2025-06-22T19:52:12.926068Z",
     "shell.execute_reply": "2025-06-22T19:52:12.925370Z",
     "shell.execute_reply.started": "2025-06-22T19:52:12.893512Z"
    },
    "trusted": true
   },
   "outputs": [],
   "source": [
    "# Genomowe binowanie\n",
    "\n",
    "df_parquet['Genomic_Bin'] = df_parquet['Chromosome'].astype(str) + '_' + (\n",
    "    ((df_parquet['Start'] - 1) // 1_000_000) * 1_000_000).astype(str)"
   ]
  },
  {
   "cell_type": "code",
   "execution_count": 41,
   "metadata": {
    "execution": {
     "iopub.execute_input": "2025-06-22T19:52:12.927247Z",
     "iopub.status.busy": "2025-06-22T19:52:12.926898Z",
     "iopub.status.idle": "2025-06-22T19:52:14.046378Z",
     "shell.execute_reply": "2025-06-22T19:52:14.045386Z",
     "shell.execute_reply.started": "2025-06-22T19:52:12.927220Z"
    },
    "trusted": true
   },
   "outputs": [],
   "source": [
    "# zgrupowanie danych\n",
    "grouped_mutations_df = df_parquet.groupby('case_barcode').agg({\n",
    "    'MutationType': list,\n",
    "    'Genomic_Bin': list,\n",
    "    'Hugo_Symbol': list,\n",
    "    'primary_site': 'first',\n",
    "}).reset_index()\n",
    "\n",
    "grouped_expression_df = df_expressions.groupby('case_barcode').agg({\n",
    "    'gene_name': list,\n",
    "    'tpm_unstranded': list,\n",
    "}).reset_index()\n",
    "\n",
    "grouped_df = pd.merge(grouped_mutations_df, grouped_expression_df, on=\"case_barcode\", suffixes=('_mutation', '_expression'))"
   ]
  },
  {
   "cell_type": "code",
   "execution_count": 42,
   "metadata": {
    "execution": {
     "iopub.execute_input": "2025-06-22T19:52:14.048465Z",
     "iopub.status.busy": "2025-06-22T19:52:14.047602Z",
     "iopub.status.idle": "2025-06-22T19:52:14.053888Z",
     "shell.execute_reply": "2025-06-22T19:52:14.052987Z",
     "shell.execute_reply.started": "2025-06-22T19:52:14.048432Z"
    },
    "trusted": true
   },
   "outputs": [],
   "source": [
    "# tokenizacja\n",
    "\n",
    "import numpy as np\n",
    "import tensorflow as tf\n",
    "from tensorflow.keras.preprocessing.text import Tokenizer\n",
    "\n",
    "def to_matrix(tokenizer, texts):\n",
    "    sequences = tokenizer.texts_to_sequences(texts)\n",
    "    count_vectors = np.zeros((len(texts), len(tokenizer.word_index) + 1))\n",
    "\n",
    "    for i, seq in enumerate(sequences):\n",
    "        for token in seq:\n",
    "            count_vectors[i, token] += 1\n",
    "\n",
    "    return count_vectors"
   ]
  },
  {
   "cell_type": "code",
   "execution_count": 43,
   "metadata": {
    "execution": {
     "iopub.execute_input": "2025-06-22T19:52:14.055106Z",
     "iopub.status.busy": "2025-06-22T19:52:14.054815Z",
     "iopub.status.idle": "2025-06-22T19:52:14.371776Z",
     "shell.execute_reply": "2025-06-22T19:52:14.370967Z",
     "shell.execute_reply.started": "2025-06-22T19:52:14.055086Z"
    },
    "trusted": true
   },
   "outputs": [],
   "source": [
    "tokenizer_bin = Tokenizer(filters='', lower=False, split=' ', oov_token=\"<OOV>\")\n",
    "tokenizer_bin.fit_on_texts(df_parquet['Genomic_Bin'].astype(str).to_list())\n",
    "\n",
    "tokenizer_gene = Tokenizer(filters='', lower=False, split=' ', oov_token=\"<OOV>\")\n",
    "tokenizer_gene.fit_on_texts(df_parquet['Hugo_Symbol'].astype(str).to_list())\n",
    "\n",
    "tokenizer_motif = Tokenizer(filters='', lower=False, split=' ', oov_token=\"<OOV>\")\n",
    "tokenizer_motif.fit_on_texts(df_parquet['MutationType'].astype(str).to_list())"
   ]
  },
  {
   "cell_type": "code",
   "execution_count": 44,
   "metadata": {
    "execution": {
     "iopub.execute_input": "2025-06-22T19:52:14.372884Z",
     "iopub.status.busy": "2025-06-22T19:52:14.372628Z",
     "iopub.status.idle": "2025-06-22T19:52:14.377751Z",
     "shell.execute_reply": "2025-06-22T19:52:14.376948Z",
     "shell.execute_reply.started": "2025-06-22T19:52:14.372857Z"
    },
    "trusted": true
   },
   "outputs": [],
   "source": [
    "def prepare_data_for(df, tokenizer_bin, tokenizer_gene, tokenizer_motif):\n",
    "    X_bin = to_matrix(tokenizer_bin, df['Genomic_Bin'])\n",
    "    X_gene = to_matrix(tokenizer_gene, df['Hugo_Symbol'])\n",
    "    X_motif = to_matrix(tokenizer_motif, df['MutationType'])\n",
    "\n",
    "    # normalizacja przez logarytmowanie\n",
    "    X_rna = np.log1p(np.array(df['tpm_unstranded'].to_list()))\n",
    "\n",
    "    return X_bin, X_gene, X_motif, X_rna"
   ]
  },
  {
   "cell_type": "code",
   "execution_count": 45,
   "metadata": {
    "execution": {
     "iopub.execute_input": "2025-06-22T19:52:14.379020Z",
     "iopub.status.busy": "2025-06-22T19:52:14.378688Z",
     "iopub.status.idle": "2025-06-22T19:52:14.645804Z",
     "shell.execute_reply": "2025-06-22T19:52:14.645058Z",
     "shell.execute_reply.started": "2025-06-22T19:52:14.378992Z"
    },
    "trusted": true
   },
   "outputs": [],
   "source": [
    "# konkatenacja\n",
    "\n",
    "X_genomic_bin, X_gene, X_motif, X_rna = prepare_data_for(grouped_df, tokenizer_bin, tokenizer_gene, tokenizer_motif)\n",
    "X = np.concatenate([X_genomic_bin, X_gene, X_motif, X_rna], axis=1)\n",
    "\n",
    "# etykiety y\n",
    "\n",
    "y_primary_site = grouped_df['primary_site']"
   ]
  },
  {
   "cell_type": "code",
   "execution_count": 46,
   "metadata": {
    "execution": {
     "iopub.execute_input": "2025-06-22T19:52:14.646877Z",
     "iopub.status.busy": "2025-06-22T19:52:14.646600Z",
     "iopub.status.idle": "2025-06-22T19:52:14.652711Z",
     "shell.execute_reply": "2025-06-22T19:52:14.651891Z",
     "shell.execute_reply.started": "2025-06-22T19:52:14.646852Z"
    },
    "trusted": true
   },
   "outputs": [
    {
     "name": "stdout",
     "output_type": "stream",
     "text": [
      "(8370, 1085) (8370, 135) (8370, 127) (8370, 698) (8370, 125) 49\n"
     ]
    }
   ],
   "source": [
    "print(X.shape, X_genomic_bin.shape, X_gene.shape, X_motif.shape, X_rna.shape, len(pd.unique(y_primary_site)))"
   ]
  },
  {
   "cell_type": "code",
   "execution_count": 84,
   "metadata": {
    "execution": {
     "iopub.execute_input": "2025-06-22T20:44:44.879411Z",
     "iopub.status.busy": "2025-06-22T20:44:44.879078Z",
     "iopub.status.idle": "2025-06-22T20:44:44.886109Z",
     "shell.execute_reply": "2025-06-22T20:44:44.885103Z",
     "shell.execute_reply.started": "2025-06-22T20:44:44.879386Z"
    },
    "trusted": true
   },
   "outputs": [],
   "source": [
    "dimension = X.shape[0]\n",
    "genomic_bin_features = X_genomic_bin.shape[1]\n",
    "genomic_bin_start = 0\n",
    "\n",
    "gene_features = X_gene.shape[1]\n",
    "gene_start = X_genomic_bin.shape[1]\n",
    "\n",
    "motif_features = X_motif.shape[1]\n",
    "motif_start = X_genomic_bin.shape[1] + X_gene.shape[1]\n",
    "\n",
    "rna_features = X_rna.shape[1]\n",
    "rna_start = X_genomic_bin.shape[1] + X_gene.shape[1] + X_motif.shape[1]\n",
    "\n",
    "output_dim = len(pd.unique(y_primary_site))"
   ]
  },
  {
   "cell_type": "code",
   "execution_count": 85,
   "metadata": {
    "execution": {
     "iopub.execute_input": "2025-06-22T20:44:45.481765Z",
     "iopub.status.busy": "2025-06-22T20:44:45.481417Z",
     "iopub.status.idle": "2025-06-22T20:44:45.614148Z",
     "shell.execute_reply": "2025-06-22T20:44:45.613232Z",
     "shell.execute_reply.started": "2025-06-22T20:44:45.481740Z"
    },
    "trusted": true
   },
   "outputs": [],
   "source": [
    "import torch\n",
    "import torch.nn as nn\n",
    "import torch.optim as optim\n",
    "\n",
    "\n",
    "# Definicja modelu\n",
    "class SimpleModel(nn.Module):\n",
    "   def __init__(self):\n",
    "       super(SimpleModel, self).__init__()\n",
    "\n",
    "       # wejścia dla każdej grupy cech\n",
    "       self.fc_genomic_bin = nn.Linear(genomic_bin_features, dimension)\n",
    "       self.fc_gene = nn.Linear(gene_features, dimension)\n",
    "       self.fc_motif = nn.Linear(motif_features, dimension)\n",
    "       self.fc_rna = nn.Linear(rna_features, dimension)\n",
    "\n",
    "       # wartswy ukryte, wyjście i relu\n",
    "       self.fc1 = nn.Linear(4*dimension, 256)\n",
    "       self.fc2 = nn.Linear(256, 64)\n",
    "       self.out = nn.Linear(64, output_dim)\n",
    "       self.relu = nn.ReLU()\n",
    "\n",
    "   def forward(self, x):\n",
    "       x_genomic_bin = x[:, genomic_bin_start:(genomic_bin_start+genomic_bin_features)]\n",
    "       x_gene = x[:, gene_start:(gene_start+gene_features)]\n",
    "       x_motif = x[:, motif_start:(motif_start+motif_features)]\n",
    "       x_rna = x[:, rna_start:(rna_start+rna_features)]\n",
    "\n",
    "       \n",
    "       # wejścia dla każdej grupy cech\n",
    "       x_genomic_bin = self.fc_genomic_bin(x_genomic_bin)\n",
    "       x_genomic_bin = self.relu(x_genomic_bin)\n",
    "       \n",
    "       x_gene = self.fc_gene(x_gene)\n",
    "       x_gene = self.relu(x_gene)\n",
    "       \n",
    "       x_motif = self.fc_motif(x_motif)\n",
    "       x_motif = self.relu(x_motif)\n",
    "       \n",
    "       x_rna = self.fc_rna(x_rna)\n",
    "       x_rna = self.relu(x_rna)\n",
    "\n",
    "       # konkatenacja\n",
    "       x = torch.cat((x_genomic_bin, x_gene, x_motif, x_rna), dim=1)\n",
    "       \n",
    "       x = self.fc1(x)\n",
    "       x = self.relu(x)\n",
    "       x = self.fc2(x)\n",
    "       x = self.relu(x)\n",
    "       x = self.out(x)\n",
    "\n",
    "       return x\n",
    "\n",
    "model = SimpleModel()"
   ]
  },
  {
   "cell_type": "code",
   "execution_count": 86,
   "metadata": {
    "execution": {
     "iopub.execute_input": "2025-06-22T20:44:45.934204Z",
     "iopub.status.busy": "2025-06-22T20:44:45.933877Z",
     "iopub.status.idle": "2025-06-22T20:44:45.992159Z",
     "shell.execute_reply": "2025-06-22T20:44:45.991355Z",
     "shell.execute_reply.started": "2025-06-22T20:44:45.934180Z"
    },
    "trusted": true
   },
   "outputs": [],
   "source": [
    "from sklearn.model_selection import train_test_split\n",
    "from sklearn.preprocessing import LabelEncoder\n",
    "\n",
    "# zakodowanie primary site jako kategorie\n",
    "le = LabelEncoder()\n",
    "y_encoded = le.fit_transform(y_primary_site)\n",
    "\n",
    "X_temp, X_test, y_temp, y_test = train_test_split(X, y_encoded, test_size=0.2, random_state=42)\n",
    "X_train, X_val, y_train, y_val = train_test_split(X_temp, y_temp, test_size=0.1, random_state=42)\n",
    "\n",
    "X_train_tensor = torch.tensor(X_train, dtype=torch.float32)\n",
    "y_train_tensor = torch.tensor(y_train, dtype=torch.long).view(-1)\n",
    "\n",
    "X_val_tensor = torch.tensor(X_val, dtype=torch.float32)\n",
    "y_val_tensor = torch.tensor(y_val, dtype=torch.long).view(-1)\n",
    "\n",
    "X_test_tensor = torch.tensor(X_test, dtype=torch.float32)\n",
    "y_test_tensor = torch.tensor(y_test, dtype=torch.long).view(-1)"
   ]
  },
  {
   "cell_type": "code",
   "execution_count": 87,
   "metadata": {
    "execution": {
     "iopub.execute_input": "2025-06-22T20:44:46.398331Z",
     "iopub.status.busy": "2025-06-22T20:44:46.398016Z",
     "iopub.status.idle": "2025-06-22T20:44:46.407938Z",
     "shell.execute_reply": "2025-06-22T20:44:46.407232Z",
     "shell.execute_reply.started": "2025-06-22T20:44:46.398305Z"
    },
    "trusted": true
   },
   "outputs": [],
   "source": [
    "from sklearn.utils.class_weight import compute_class_weight\n",
    "\n",
    "# Funkcja straty i optymalizator\n",
    "# Wagi klas (uwzględnienie niezbalansowanych etykiet)\n",
    "\n",
    "all_classes = np.arange(len(le.classes_))  # pełny zakres zakodowanych klas\n",
    "train_classes = np.unique(y_train)\n",
    "\n",
    "# Wagi tylko dla danych treningowych\n",
    "train_weights = compute_class_weight(\n",
    "    class_weight='balanced',\n",
    "    classes=train_classes,\n",
    "    y=y_train\n",
    ")\n",
    "weight_dict = dict(zip(train_classes, train_weights))\n",
    "\n",
    "# ) dla klas, których nie ma w zestawie treningowym\n",
    "full_weights = [weight_dict.get(cls, 0.0) for cls in all_classes]\n",
    "class_weights_tensor = torch.tensor(full_weights, dtype=torch.float)\n",
    "\n",
    "criterion = nn.CrossEntropyLoss(weight=class_weights_tensor) # softmax uwzględniony tutaj\n",
    "optimizer = optim.Adam(model.parameters(), lr=0.01)"
   ]
  },
  {
   "cell_type": "code",
   "execution_count": 88,
   "metadata": {
    "execution": {
     "iopub.execute_input": "2025-06-22T20:44:46.773749Z",
     "iopub.status.busy": "2025-06-22T20:44:46.773432Z",
     "iopub.status.idle": "2025-06-22T20:55:01.635912Z",
     "shell.execute_reply": "2025-06-22T20:55:01.634945Z",
     "shell.execute_reply.started": "2025-06-22T20:44:46.773727Z"
    },
    "trusted": true
   },
   "outputs": [
    {
     "name": "stdout",
     "output_type": "stream",
     "text": [
      "Epoch 0: Train Loss = 3.8927, Train Acc = 0.0061, Val Loss = 54.9727, Val Acc = 0.0015, Precision: 0.0000, Recall: 0.0015, F1: 0.0000\n",
      "Epoch 20: Train Loss = 1.9614, Train Acc = 0.2937, Val Loss = 4.4898, Val Acc = 0.2776, Precision: 0.4809, Recall: 0.2776, F1: 0.2913\n",
      "Epoch 40: Train Loss = 0.4744, Train Acc = 0.7604, Val Loss = 8.7081, Val Acc = 0.4269, Precision: 0.4881, Recall: 0.4269, F1: 0.4485\n",
      "Epoch 60: Train Loss = 0.1451, Train Acc = 0.9147, Val Loss = 13.9276, Val Acc = 0.4313, Precision: 0.4587, Recall: 0.4313, F1: 0.4371\n",
      "Epoch 80: Train Loss = 0.0831, Train Acc = 0.9459, Val Loss = 16.5656, Val Acc = 0.4284, Precision: 0.4360, Recall: 0.4284, F1: 0.4261\n",
      "Epoch 100: Train Loss = 0.0463, Train Acc = 0.9700, Val Loss = 18.7756, Val Acc = 0.4224, Precision: 0.4315, Recall: 0.4224, F1: 0.4222\n"
     ]
    }
   ],
   "source": [
    "from sklearn.metrics import precision_score, recall_score, f1_score\n",
    "\n",
    "train_loss_list = []\n",
    "val_loss_list = []\n",
    "train_acc_list = []\n",
    "val_acc_list = []\n",
    "precision_list =[]\n",
    "recall_list = []\n",
    "f1_list = []\n",
    "\n",
    "for epoch in range(101):\n",
    "    # --- Trening ---\n",
    "    model.train()\n",
    "\n",
    "    # train loss\n",
    "    y_pred_train = model(X_train_tensor)\n",
    "    loss = criterion(y_pred_train, y_train_tensor)\n",
    "    train_loss_list.append(loss.item())\n",
    "    \n",
    "    # train accuracy\n",
    "    _, predicted_train = torch.max(y_pred_train, 1)\n",
    "    acc_train = (predicted_train == y_train_tensor).float().mean().item()\n",
    "    train_acc_list.append(acc_train)\n",
    "\n",
    "    optimizer.zero_grad()\n",
    "    loss.backward()\n",
    "    optimizer.step()\n",
    "\n",
    "    # --- Walidacja ---\n",
    "    if epoch % 20 == 0:\n",
    "        model.eval()\n",
    "        with torch.no_grad():\n",
    "            \n",
    "            # val loss\n",
    "            y_pred_val = model(X_val_tensor)\n",
    "            val_loss = criterion(y_pred_val, y_val_tensor)\n",
    "            val_loss_list.append(val_loss.item())\n",
    "\n",
    "            # val accuracy\n",
    "            _, predicted_val = torch.max(y_pred_val, 1)\n",
    "            acc_val = (predicted_val == y_val_tensor).float().mean().item()\n",
    "            val_acc_list.append(acc_val)\n",
    "\n",
    "            # konwersja do numpy\n",
    "            y_true_np = y_val_tensor.cpu().numpy()\n",
    "            y_pred_np = predicted_val.cpu().numpy()\n",
    "        \n",
    "            # precyzja, recall, f1 (ważone, żeby uwzględnić niezbalansowanie klas)\n",
    "            precision = precision_score(y_true_np, y_pred_np, zero_division=0, average='weighted')\n",
    "            precision_list.append(precision)\n",
    "            \n",
    "            recall = recall_score(y_true_np, y_pred_np, zero_division=0, average='weighted')\n",
    "            recall_list.append(recall)\n",
    "            \n",
    "            f1 = f1_score(y_true_np, y_pred_np, average='weighted')\n",
    "            f1_list.append(f1)\n",
    "\n",
    "            print(f\"Epoch {epoch}: Train Loss = {loss.item():.4f}, Train Acc = {acc_train:.4f}, Val Loss = {val_loss.item():.4f}, Val Acc = {acc_val:.4f}, Precision: {precision:.4f}, Recall: {recall:.4f}, F1: {f1:.4f}\")"
   ]
  },
  {
   "cell_type": "code",
   "execution_count": 89,
   "metadata": {
    "execution": {
     "iopub.execute_input": "2025-06-22T20:55:01.638025Z",
     "iopub.status.busy": "2025-06-22T20:55:01.637404Z",
     "iopub.status.idle": "2025-06-22T20:55:02.403436Z",
     "shell.execute_reply": "2025-06-22T20:55:02.402460Z",
     "shell.execute_reply.started": "2025-06-22T20:55:01.637999Z"
    },
    "trusted": true
   },
   "outputs": [
    {
     "name": "stdout",
     "output_type": "stream",
     "text": [
      "\n",
      "MSE na zbiorze testowym: 15.7273, \n",
      " Accuracy na zbiorze testowym: 0.4456391930580139.4f\n"
     ]
    }
   ],
   "source": [
    "with torch.no_grad():\n",
    "    y_pred_test = model(X_test_tensor)\n",
    "    test_loss = criterion(y_pred_test, y_test_tensor)\n",
    "    _, predicted_test = torch.max(y_pred_test, 1)\n",
    "    acc_test = (predicted_test == y_test_tensor).float().mean().item()\n",
    "    \n",
    "print(f\"\\nMSE na zbiorze testowym: {test_loss.item():.4f}, \\n Accuracy na zbiorze testowym: {acc_test}.4f\")"
   ]
  },
  {
   "cell_type": "code",
   "execution_count": 90,
   "metadata": {
    "execution": {
     "iopub.execute_input": "2025-06-22T20:55:02.404686Z",
     "iopub.status.busy": "2025-06-22T20:55:02.404440Z",
     "iopub.status.idle": "2025-06-22T20:55:02.869528Z",
     "shell.execute_reply": "2025-06-22T20:55:02.868670Z",
     "shell.execute_reply.started": "2025-06-22T20:55:02.404668Z"
    },
    "trusted": true
   },
   "outputs": [
    {
     "data": {
      "image/png": "[encoded data removed]",
      "text/plain": [
       "<Figure size 1200x500 with 2 Axes>"
      ]
     },
     "metadata": {},
     "output_type": "display_data"
    }
   ],
   "source": [
    "import matplotlib.pyplot as plt\n",
    "import numpy as np\n",
    "\n",
    "plt.figure(figsize=(12, 5))\n",
    "\n",
    "# Loss\n",
    "plt.subplot(1, 2, 1)\n",
    "plt.plot(train_loss_list, label='Train Loss')\n",
    "plt.plot(np.arange(0, 101, 20), val_loss_list, label='Val Loss', linestyle='--')\n",
    "plt.xlabel(\"Epoch\")\n",
    "plt.ylabel(\"Loss\")\n",
    "plt.legend()\n",
    "plt.title(\"Loss\")\n",
    "\n",
    "# Accuracy\n",
    "plt.subplot(1, 2, 2)\n",
    "plt.plot(train_acc_list, label='Train Accuracy')\n",
    "plt.plot(np.arange(0, 101, 20), val_acc_list, label='Val Accuracy', linestyle='--')\n",
    "plt.xlabel(\"Epoch\")\n",
    "plt.ylabel(\"Accuracy\")\n",
    "plt.legend()\n",
    "plt.title(\"Accuracy\")\n",
    "\n",
    "plt.tight_layout()\n",
    "plt.show()"
   ]
  },
  {
   "cell_type": "code",
   "execution_count": 91,
   "metadata": {
    "execution": {
     "iopub.execute_input": "2025-06-22T20:55:02.871666Z",
     "iopub.status.busy": "2025-06-22T20:55:02.871305Z",
     "iopub.status.idle": "2025-06-22T20:55:03.108546Z",
     "shell.execute_reply": "2025-06-22T20:55:03.107538Z",
     "shell.execute_reply.started": "2025-06-22T20:55:02.871636Z"
    },
    "trusted": true
   },
   "outputs": [
    {
     "data": {
      "image/png": "[encoded data removed]",
      "text/plain": [
       "<Figure size 640x480 with 1 Axes>"
      ]
     },
     "metadata": {},
     "output_type": "display_data"
    }
   ],
   "source": [
    "plt.plot(np.arange(0, 101, 20), precision_list, label='Val Precision')\n",
    "plt.plot(np.arange(0, 101, 20), recall_list, label='Val Recall')\n",
    "plt.plot(np.arange(0, 101, 20), f1_list, label='Val F1')\n",
    "plt.xlabel(\"Epoch\")\n",
    "plt.legend()\n",
    "plt.title(\"Metrics\")\n",
    "\n",
    "plt.tight_layout()\n",
    "plt.show()"
   ]
  }
 ],
 "metadata": {
  "kaggle": {
   "accelerator": "none",
   "dataSources": [
    {
     "datasetId": 7655952,
     "sourceId": 12156173,
     "sourceType": "datasetVersion"
    },
    {
     "datasetId": 7656620,
     "sourceId": 12157129,
     "sourceType": "datasetVersion"
    }
   ],
   "dockerImageVersionId": 31040,
   "isGpuEnabled": false,
   "isInternetEnabled": true,
   "language": "python",
   "sourceType": "notebook"
  },
  "kernelspec": {
   "display_name": "Python 3",
   "language": "python",
   "name": "python3"
  },
  "language_info": {
   "codemirror_mode": {
    "name": "ipython",
    "version": 3
   },
   "file_extension": ".py",
   "mimetype": "text/x-python",
   "name": "python",
   "nbconvert_exporter": "python",
   "pygments_lexer": "ipython3",
   "version": "3.11.11"
  }
 },
 "nbformat": 4,
 "nbformat_minor": 4
}
